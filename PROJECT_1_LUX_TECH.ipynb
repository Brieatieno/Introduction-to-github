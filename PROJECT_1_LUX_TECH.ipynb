{
  "nbformat": 4,
  "nbformat_minor": 0,
  "metadata": {
    "colab": {
      "provenance": [],
      "authorship_tag": "ABX9TyNM+jJf4yJVq/n5R9kYaGse",
      "include_colab_link": true
    },
    "kernelspec": {
      "name": "python3",
      "display_name": "Python 3"
    },
    "language_info": {
      "name": "python"
    }
  },
  "cells": [
    {
      "cell_type": "markdown",
      "metadata": {
        "id": "view-in-github",
        "colab_type": "text"
      },
      "source": [
        "<a href=\"https://colab.research.google.com/github/Brieatieno/Introduction-to-github/blob/main/PROJECT_1_LUX_TECH.ipynb\" target=\"_parent\"><img src=\"https://colab.research.google.com/assets/colab-badge.svg\" alt=\"Open In Colab\"/></a>"
      ]
    },
    {
      "cell_type": "markdown",
      "source": [
        "## **EDA on IT Salary Survey for EU region(2018-2020)**"
      ],
      "metadata": {
        "id": "yR3BepmnPfsZ"
      }
    },
    {
      "cell_type": "markdown",
      "source": [
        "### **CONTEXT**\n",
        "An anonymous salary survey has been conducted annually since 2015 among European IT specialists with a stronger focus on Germany. This year 1238 respondents volunteered to participate in the survey. The data has been made publicly available by the authors.\n",
        "The dataset contains rich information about the salary patterns among the IT professionals in the EU region and offers some great insights."
      ],
      "metadata": {
        "id": "9iZ0nqkrPtAw"
      }
    },
    {
      "cell_type": "markdown",
      "source": [
        "### **DOWNLOAD DATASET**"
      ],
      "metadata": {
        "id": "0Z5yLufmYZuh"
      }
    },
    {
      "cell_type": "code",
      "source": [
        "import numpy as np\n",
        "import pandas as pd\n",
        "import matplotlib.pyplot as plt\n",
        "import seaborn as sns\n",
        "from collections import Counter\n",
        "import re\n",
        "from collections import defaultdict\n",
        "from wordcloud import WordCloud\n",
        "from scipy.stats import iqr"
      ],
      "metadata": {
        "id": "4w5IDB3hbnk1"
      },
      "execution_count": null,
      "outputs": []
    },
    {
      "cell_type": "markdown",
      "source": [
        "## **Load Data**"
      ],
      "metadata": {
        "id": "RpLC-tHZcOZ8"
      }
    },
    {
      "cell_type": "code",
      "source": [
        "from google.colab import files\n",
        "uploaded = files.upload()"
      ],
      "metadata": {
        "colab": {
          "base_uri": "https://localhost:8080/",
          "height": 73
        },
        "id": "_0LBW4tScXvH",
        "outputId": "dcb00356-85b7-425d-823d-c50cde5ae8c4"
      },
      "execution_count": null,
      "outputs": [
        {
          "output_type": "display_data",
          "data": {
            "text/plain": [
              "<IPython.core.display.HTML object>"
            ],
            "text/html": [
              "\n",
              "     <input type=\"file\" id=\"files-7401400d-e05f-4e1a-9073-ab1aa311c610\" name=\"files[]\" multiple disabled\n",
              "        style=\"border:none\" />\n",
              "     <output id=\"result-7401400d-e05f-4e1a-9073-ab1aa311c610\">\n",
              "      Upload widget is only available when the cell has been executed in the\n",
              "      current browser session. Please rerun this cell to enable.\n",
              "      </output>\n",
              "      <script>// Copyright 2017 Google LLC\n",
              "//\n",
              "// Licensed under the Apache License, Version 2.0 (the \"License\");\n",
              "// you may not use this file except in compliance with the License.\n",
              "// You may obtain a copy of the License at\n",
              "//\n",
              "//      http://www.apache.org/licenses/LICENSE-2.0\n",
              "//\n",
              "// Unless required by applicable law or agreed to in writing, software\n",
              "// distributed under the License is distributed on an \"AS IS\" BASIS,\n",
              "// WITHOUT WARRANTIES OR CONDITIONS OF ANY KIND, either express or implied.\n",
              "// See the License for the specific language governing permissions and\n",
              "// limitations under the License.\n",
              "\n",
              "/**\n",
              " * @fileoverview Helpers for google.colab Python module.\n",
              " */\n",
              "(function(scope) {\n",
              "function span(text, styleAttributes = {}) {\n",
              "  const element = document.createElement('span');\n",
              "  element.textContent = text;\n",
              "  for (const key of Object.keys(styleAttributes)) {\n",
              "    element.style[key] = styleAttributes[key];\n",
              "  }\n",
              "  return element;\n",
              "}\n",
              "\n",
              "// Max number of bytes which will be uploaded at a time.\n",
              "const MAX_PAYLOAD_SIZE = 100 * 1024;\n",
              "\n",
              "function _uploadFiles(inputId, outputId) {\n",
              "  const steps = uploadFilesStep(inputId, outputId);\n",
              "  const outputElement = document.getElementById(outputId);\n",
              "  // Cache steps on the outputElement to make it available for the next call\n",
              "  // to uploadFilesContinue from Python.\n",
              "  outputElement.steps = steps;\n",
              "\n",
              "  return _uploadFilesContinue(outputId);\n",
              "}\n",
              "\n",
              "// This is roughly an async generator (not supported in the browser yet),\n",
              "// where there are multiple asynchronous steps and the Python side is going\n",
              "// to poll for completion of each step.\n",
              "// This uses a Promise to block the python side on completion of each step,\n",
              "// then passes the result of the previous step as the input to the next step.\n",
              "function _uploadFilesContinue(outputId) {\n",
              "  const outputElement = document.getElementById(outputId);\n",
              "  const steps = outputElement.steps;\n",
              "\n",
              "  const next = steps.next(outputElement.lastPromiseValue);\n",
              "  return Promise.resolve(next.value.promise).then((value) => {\n",
              "    // Cache the last promise value to make it available to the next\n",
              "    // step of the generator.\n",
              "    outputElement.lastPromiseValue = value;\n",
              "    return next.value.response;\n",
              "  });\n",
              "}\n",
              "\n",
              "/**\n",
              " * Generator function which is called between each async step of the upload\n",
              " * process.\n",
              " * @param {string} inputId Element ID of the input file picker element.\n",
              " * @param {string} outputId Element ID of the output display.\n",
              " * @return {!Iterable<!Object>} Iterable of next steps.\n",
              " */\n",
              "function* uploadFilesStep(inputId, outputId) {\n",
              "  const inputElement = document.getElementById(inputId);\n",
              "  inputElement.disabled = false;\n",
              "\n",
              "  const outputElement = document.getElementById(outputId);\n",
              "  outputElement.innerHTML = '';\n",
              "\n",
              "  const pickedPromise = new Promise((resolve) => {\n",
              "    inputElement.addEventListener('change', (e) => {\n",
              "      resolve(e.target.files);\n",
              "    });\n",
              "  });\n",
              "\n",
              "  const cancel = document.createElement('button');\n",
              "  inputElement.parentElement.appendChild(cancel);\n",
              "  cancel.textContent = 'Cancel upload';\n",
              "  const cancelPromise = new Promise((resolve) => {\n",
              "    cancel.onclick = () => {\n",
              "      resolve(null);\n",
              "    };\n",
              "  });\n",
              "\n",
              "  // Wait for the user to pick the files.\n",
              "  const files = yield {\n",
              "    promise: Promise.race([pickedPromise, cancelPromise]),\n",
              "    response: {\n",
              "      action: 'starting',\n",
              "    }\n",
              "  };\n",
              "\n",
              "  cancel.remove();\n",
              "\n",
              "  // Disable the input element since further picks are not allowed.\n",
              "  inputElement.disabled = true;\n",
              "\n",
              "  if (!files) {\n",
              "    return {\n",
              "      response: {\n",
              "        action: 'complete',\n",
              "      }\n",
              "    };\n",
              "  }\n",
              "\n",
              "  for (const file of files) {\n",
              "    const li = document.createElement('li');\n",
              "    li.append(span(file.name, {fontWeight: 'bold'}));\n",
              "    li.append(span(\n",
              "        `(${file.type || 'n/a'}) - ${file.size} bytes, ` +\n",
              "        `last modified: ${\n",
              "            file.lastModifiedDate ? file.lastModifiedDate.toLocaleDateString() :\n",
              "                                    'n/a'} - `));\n",
              "    const percent = span('0% done');\n",
              "    li.appendChild(percent);\n",
              "\n",
              "    outputElement.appendChild(li);\n",
              "\n",
              "    const fileDataPromise = new Promise((resolve) => {\n",
              "      const reader = new FileReader();\n",
              "      reader.onload = (e) => {\n",
              "        resolve(e.target.result);\n",
              "      };\n",
              "      reader.readAsArrayBuffer(file);\n",
              "    });\n",
              "    // Wait for the data to be ready.\n",
              "    let fileData = yield {\n",
              "      promise: fileDataPromise,\n",
              "      response: {\n",
              "        action: 'continue',\n",
              "      }\n",
              "    };\n",
              "\n",
              "    // Use a chunked sending to avoid message size limits. See b/62115660.\n",
              "    let position = 0;\n",
              "    do {\n",
              "      const length = Math.min(fileData.byteLength - position, MAX_PAYLOAD_SIZE);\n",
              "      const chunk = new Uint8Array(fileData, position, length);\n",
              "      position += length;\n",
              "\n",
              "      const base64 = btoa(String.fromCharCode.apply(null, chunk));\n",
              "      yield {\n",
              "        response: {\n",
              "          action: 'append',\n",
              "          file: file.name,\n",
              "          data: base64,\n",
              "        },\n",
              "      };\n",
              "\n",
              "      let percentDone = fileData.byteLength === 0 ?\n",
              "          100 :\n",
              "          Math.round((position / fileData.byteLength) * 100);\n",
              "      percent.textContent = `${percentDone}% done`;\n",
              "\n",
              "    } while (position < fileData.byteLength);\n",
              "  }\n",
              "\n",
              "  // All done.\n",
              "  yield {\n",
              "    response: {\n",
              "      action: 'complete',\n",
              "    }\n",
              "  };\n",
              "}\n",
              "\n",
              "scope.google = scope.google || {};\n",
              "scope.google.colab = scope.google.colab || {};\n",
              "scope.google.colab._files = {\n",
              "  _uploadFiles,\n",
              "  _uploadFilesContinue,\n",
              "};\n",
              "})(self);\n",
              "</script> "
            ]
          },
          "metadata": {}
        },
        {
          "output_type": "stream",
          "name": "stdout",
          "text": [
            "Saving IT Salary Survey EU  2020.csv to IT Salary Survey EU  2020.csv\n"
          ]
        }
      ]
    },
    {
      "cell_type": "code",
      "source": [
        "import pandas as pd\n",
        "survey_2020= pd.read_csv(\"IT Salary Survey EU  2020.csv\", delimiter=',')\n",
        "df=pd.DataFrame(dataframe)\n",
        "df"
      ],
      "metadata": {
        "colab": {
          "base_uri": "https://localhost:8080/",
          "height": 956
        },
        "id": "jdpARR6-rj6Z",
        "outputId": "626b56ca-99e9-4794-a936-d17531c45d2f"
      },
      "execution_count": null,
      "outputs": [
        {
          "output_type": "execute_result",
          "data": {
            "text/plain": [
              "                Timestamp   Age Gender         City  \\\n",
              "0     24/11/2020 11:14:15  26.0   Male       Munich   \n",
              "1     24/11/2020 11:14:16  26.0   Male       Berlin   \n",
              "2     24/11/2020 11:14:21  29.0   Male       Berlin   \n",
              "3     24/11/2020 11:15:24  28.0   Male       Berlin   \n",
              "4     24/11/2020 11:15:46  37.0   Male       Berlin   \n",
              "...                   ...   ...    ...          ...   \n",
              "1248  18/01/2021 15:05:50  31.0   Male       Berlin   \n",
              "1249  18/01/2021 17:46:02  33.0   Male       Berlin   \n",
              "1250  18/01/2021 23:20:35  39.0   Male       Munich   \n",
              "1251  19/01/2021 10:17:58  26.0   Male  Saarbrücken   \n",
              "1252  19/01/2021 12:01:11  26.0   Male       Berlin   \n",
              "\n",
              "                                   Position  Total years of experience  \\\n",
              "0                          Software Engineer                         5   \n",
              "1                          Backend Developer                         7   \n",
              "2                          Software Engineer                        12   \n",
              "3                         Frontend Developer                         4   \n",
              "4                          Backend Developer                        17   \n",
              "...                                      ...                       ...   \n",
              "1248                       Backend Developer                         9   \n",
              "1249  Researcher/ Consumer Insights Analyst                         10   \n",
              "1250                   IT Operations Manager                        15   \n",
              "1251                      Frontend Developer                         7   \n",
              "1252                                  DevOps                         2   \n",
              "\n",
              "     Years of experience in Germany Seniority level  \\\n",
              "0                                 3          Senior   \n",
              "1                                 4          Senior   \n",
              "2                                 6            Lead   \n",
              "3                                 1          Junior   \n",
              "4                                 6          Senior   \n",
              "...                             ...             ...   \n",
              "1248                              5          Senior   \n",
              "1249                            1.5          Senior   \n",
              "1250                              2            Lead   \n",
              "1251                              7          Middle   \n",
              "1252                              2          Middle   \n",
              "\n",
              "     Your main technology / programming language  \\\n",
              "0                                     TypeScript   \n",
              "1                                           Ruby   \n",
              "2                        Javascript / Typescript   \n",
              "3                                     Javascript   \n",
              "4                                        C# .NET   \n",
              "...                                          ...   \n",
              "1248                                        Java   \n",
              "1249                           consumer analysis   \n",
              "1250                                         PHP   \n",
              "1251                                  JavaScript   \n",
              "1252                                        yaml   \n",
              "\n",
              "     Other technologies/programming languages you use often  ...  \\\n",
              "0                       Kotlin, Javascript / Typescript      ...   \n",
              "1                                                   NaN      ...   \n",
              "2                       Javascript / Typescript, Docker      ...   \n",
              "3                                                   NaN      ...   \n",
              "4                                .NET, SQL, AWS, Docker      ...   \n",
              "...                                                 ...      ...   \n",
              "1248  Python, Javascript / Typescript, Java / Scala,...      ...   \n",
              "1249                                                NaN      ...   \n",
              "1250  Python, C/C++, Javascript / Typescript, Java /...      ...   \n",
              "1251  Javascript / Typescript, Docker, HTML, CSS; Ad...      ...   \n",
              "1252  Python, AWS, Kubernetes, Docker, terraform, an...      ...   \n",
              "\n",
              "      Annual bonus+stocks one year ago. Only answer if staying in same country  \\\n",
              "0                                                 10000                          \n",
              "1                                                  5000                          \n",
              "2                                                100000                          \n",
              "3                                                   NaN                          \n",
              "4                                                   NaN                          \n",
              "...                                                 ...                          \n",
              "1248                                              72000                          \n",
              "1249                                               2500                          \n",
              "1250                                                NaN                          \n",
              "1251                                              36400                          \n",
              "1252                                                  0                          \n",
              "\n",
              "     Number of vacation days           Employment status   Сontract duration  \\\n",
              "0                         30          Full-time employee  Unlimited contract   \n",
              "1                         28          Full-time employee  Unlimited contract   \n",
              "2                         30  Self-employed (freelancer)  Temporary contract   \n",
              "3                         24          Full-time employee  Unlimited contract   \n",
              "4                         29          Full-time employee  Unlimited contract   \n",
              "...                      ...                         ...                 ...   \n",
              "1248                      26          Full-time employee  Unlimited contract   \n",
              "1249              unlimited           Full-time employee  Unlimited contract   \n",
              "1250                      28          Full-time employee  Unlimited contract   \n",
              "1251                      27          Full-time employee  Unlimited contract   \n",
              "1252                      30          Full-time employee  Unlimited contract   \n",
              "\n",
              "     Main language at work Company size Company type  \\\n",
              "0                  English       51-100      Product   \n",
              "1                  English     101-1000      Product   \n",
              "2                  English     101-1000      Product   \n",
              "3                  English       51-100      Startup   \n",
              "4                  English     101-1000      Product   \n",
              "...                    ...          ...          ...   \n",
              "1248               English       51-100      Product   \n",
              "1249               English        1000+      Product   \n",
              "1250               English     101-1000    eCommerce   \n",
              "1251                German     101-1000      Product   \n",
              "1252               English       51-100      Startup   \n",
              "\n",
              "     Have you lost your job due to the coronavirus outbreak?  \\\n",
              "0                                                    No        \n",
              "1                                                    No        \n",
              "2                                                   Yes        \n",
              "3                                                    No        \n",
              "4                                                    No        \n",
              "...                                                 ...        \n",
              "1248                                                Yes        \n",
              "1249                                                 No        \n",
              "1250                                                 No        \n",
              "1251                                                 No        \n",
              "1252                                                 No        \n",
              "\n",
              "     Have you been forced to have a shorter working week (Kurzarbeit)? If yes, how many hours per week  \\\n",
              "0                                                   NaN                                                  \n",
              "1                                                   NaN                                                  \n",
              "2                                                   NaN                                                  \n",
              "3                                                   NaN                                                  \n",
              "4                                                   NaN                                                  \n",
              "...                                                 ...                                                  \n",
              "1248                                                NaN                                                  \n",
              "1249                                                NaN                                                  \n",
              "1250                                                NaN                                                  \n",
              "1251                                                NaN                                                  \n",
              "1252                                               30.0                                                  \n",
              "\n",
              "     Have you received additional monetary support from your employer due to Work From Home? If yes, how much in 2020 in EUR  \n",
              "0                                                   NaN                                                                       \n",
              "1                                                   NaN                                                                       \n",
              "2                                                   NaN                                                                       \n",
              "3                                                   NaN                                                                       \n",
              "4                                                   NaN                                                                       \n",
              "...                                                 ...                                                                       \n",
              "1248                                                NaN                                                                       \n",
              "1249                                                  0                                                                       \n",
              "1250                                                NaN                                                                       \n",
              "1251                                                  0                                                                       \n",
              "1252                                                600                                                                       \n",
              "\n",
              "[1253 rows x 23 columns]"
            ],
            "text/html": [
              "\n",
              "  <div id=\"df-cde2d3f3-030f-4183-b7d7-ee9dcd0ccfc9\">\n",
              "    <div class=\"colab-df-container\">\n",
              "      <div>\n",
              "<style scoped>\n",
              "    .dataframe tbody tr th:only-of-type {\n",
              "        vertical-align: middle;\n",
              "    }\n",
              "\n",
              "    .dataframe tbody tr th {\n",
              "        vertical-align: top;\n",
              "    }\n",
              "\n",
              "    .dataframe thead th {\n",
              "        text-align: right;\n",
              "    }\n",
              "</style>\n",
              "<table border=\"1\" class=\"dataframe\">\n",
              "  <thead>\n",
              "    <tr style=\"text-align: right;\">\n",
              "      <th></th>\n",
              "      <th>Timestamp</th>\n",
              "      <th>Age</th>\n",
              "      <th>Gender</th>\n",
              "      <th>City</th>\n",
              "      <th>Position</th>\n",
              "      <th>Total years of experience</th>\n",
              "      <th>Years of experience in Germany</th>\n",
              "      <th>Seniority level</th>\n",
              "      <th>Your main technology / programming language</th>\n",
              "      <th>Other technologies/programming languages you use often</th>\n",
              "      <th>...</th>\n",
              "      <th>Annual bonus+stocks one year ago. Only answer if staying in same country</th>\n",
              "      <th>Number of vacation days</th>\n",
              "      <th>Employment status</th>\n",
              "      <th>Сontract duration</th>\n",
              "      <th>Main language at work</th>\n",
              "      <th>Company size</th>\n",
              "      <th>Company type</th>\n",
              "      <th>Have you lost your job due to the coronavirus outbreak?</th>\n",
              "      <th>Have you been forced to have a shorter working week (Kurzarbeit)? If yes, how many hours per week</th>\n",
              "      <th>Have you received additional monetary support from your employer due to Work From Home? If yes, how much in 2020 in EUR</th>\n",
              "    </tr>\n",
              "  </thead>\n",
              "  <tbody>\n",
              "    <tr>\n",
              "      <th>0</th>\n",
              "      <td>24/11/2020 11:14:15</td>\n",
              "      <td>26.0</td>\n",
              "      <td>Male</td>\n",
              "      <td>Munich</td>\n",
              "      <td>Software Engineer</td>\n",
              "      <td>5</td>\n",
              "      <td>3</td>\n",
              "      <td>Senior</td>\n",
              "      <td>TypeScript</td>\n",
              "      <td>Kotlin, Javascript / Typescript</td>\n",
              "      <td>...</td>\n",
              "      <td>10000</td>\n",
              "      <td>30</td>\n",
              "      <td>Full-time employee</td>\n",
              "      <td>Unlimited contract</td>\n",
              "      <td>English</td>\n",
              "      <td>51-100</td>\n",
              "      <td>Product</td>\n",
              "      <td>No</td>\n",
              "      <td>NaN</td>\n",
              "      <td>NaN</td>\n",
              "    </tr>\n",
              "    <tr>\n",
              "      <th>1</th>\n",
              "      <td>24/11/2020 11:14:16</td>\n",
              "      <td>26.0</td>\n",
              "      <td>Male</td>\n",
              "      <td>Berlin</td>\n",
              "      <td>Backend Developer</td>\n",
              "      <td>7</td>\n",
              "      <td>4</td>\n",
              "      <td>Senior</td>\n",
              "      <td>Ruby</td>\n",
              "      <td>NaN</td>\n",
              "      <td>...</td>\n",
              "      <td>5000</td>\n",
              "      <td>28</td>\n",
              "      <td>Full-time employee</td>\n",
              "      <td>Unlimited contract</td>\n",
              "      <td>English</td>\n",
              "      <td>101-1000</td>\n",
              "      <td>Product</td>\n",
              "      <td>No</td>\n",
              "      <td>NaN</td>\n",
              "      <td>NaN</td>\n",
              "    </tr>\n",
              "    <tr>\n",
              "      <th>2</th>\n",
              "      <td>24/11/2020 11:14:21</td>\n",
              "      <td>29.0</td>\n",
              "      <td>Male</td>\n",
              "      <td>Berlin</td>\n",
              "      <td>Software Engineer</td>\n",
              "      <td>12</td>\n",
              "      <td>6</td>\n",
              "      <td>Lead</td>\n",
              "      <td>Javascript / Typescript</td>\n",
              "      <td>Javascript / Typescript, Docker</td>\n",
              "      <td>...</td>\n",
              "      <td>100000</td>\n",
              "      <td>30</td>\n",
              "      <td>Self-employed (freelancer)</td>\n",
              "      <td>Temporary contract</td>\n",
              "      <td>English</td>\n",
              "      <td>101-1000</td>\n",
              "      <td>Product</td>\n",
              "      <td>Yes</td>\n",
              "      <td>NaN</td>\n",
              "      <td>NaN</td>\n",
              "    </tr>\n",
              "    <tr>\n",
              "      <th>3</th>\n",
              "      <td>24/11/2020 11:15:24</td>\n",
              "      <td>28.0</td>\n",
              "      <td>Male</td>\n",
              "      <td>Berlin</td>\n",
              "      <td>Frontend Developer</td>\n",
              "      <td>4</td>\n",
              "      <td>1</td>\n",
              "      <td>Junior</td>\n",
              "      <td>Javascript</td>\n",
              "      <td>NaN</td>\n",
              "      <td>...</td>\n",
              "      <td>NaN</td>\n",
              "      <td>24</td>\n",
              "      <td>Full-time employee</td>\n",
              "      <td>Unlimited contract</td>\n",
              "      <td>English</td>\n",
              "      <td>51-100</td>\n",
              "      <td>Startup</td>\n",
              "      <td>No</td>\n",
              "      <td>NaN</td>\n",
              "      <td>NaN</td>\n",
              "    </tr>\n",
              "    <tr>\n",
              "      <th>4</th>\n",
              "      <td>24/11/2020 11:15:46</td>\n",
              "      <td>37.0</td>\n",
              "      <td>Male</td>\n",
              "      <td>Berlin</td>\n",
              "      <td>Backend Developer</td>\n",
              "      <td>17</td>\n",
              "      <td>6</td>\n",
              "      <td>Senior</td>\n",
              "      <td>C# .NET</td>\n",
              "      <td>.NET, SQL, AWS, Docker</td>\n",
              "      <td>...</td>\n",
              "      <td>NaN</td>\n",
              "      <td>29</td>\n",
              "      <td>Full-time employee</td>\n",
              "      <td>Unlimited contract</td>\n",
              "      <td>English</td>\n",
              "      <td>101-1000</td>\n",
              "      <td>Product</td>\n",
              "      <td>No</td>\n",
              "      <td>NaN</td>\n",
              "      <td>NaN</td>\n",
              "    </tr>\n",
              "    <tr>\n",
              "      <th>...</th>\n",
              "      <td>...</td>\n",
              "      <td>...</td>\n",
              "      <td>...</td>\n",
              "      <td>...</td>\n",
              "      <td>...</td>\n",
              "      <td>...</td>\n",
              "      <td>...</td>\n",
              "      <td>...</td>\n",
              "      <td>...</td>\n",
              "      <td>...</td>\n",
              "      <td>...</td>\n",
              "      <td>...</td>\n",
              "      <td>...</td>\n",
              "      <td>...</td>\n",
              "      <td>...</td>\n",
              "      <td>...</td>\n",
              "      <td>...</td>\n",
              "      <td>...</td>\n",
              "      <td>...</td>\n",
              "      <td>...</td>\n",
              "      <td>...</td>\n",
              "    </tr>\n",
              "    <tr>\n",
              "      <th>1248</th>\n",
              "      <td>18/01/2021 15:05:50</td>\n",
              "      <td>31.0</td>\n",
              "      <td>Male</td>\n",
              "      <td>Berlin</td>\n",
              "      <td>Backend Developer</td>\n",
              "      <td>9</td>\n",
              "      <td>5</td>\n",
              "      <td>Senior</td>\n",
              "      <td>Java</td>\n",
              "      <td>Python, Javascript / Typescript, Java / Scala,...</td>\n",
              "      <td>...</td>\n",
              "      <td>72000</td>\n",
              "      <td>26</td>\n",
              "      <td>Full-time employee</td>\n",
              "      <td>Unlimited contract</td>\n",
              "      <td>English</td>\n",
              "      <td>51-100</td>\n",
              "      <td>Product</td>\n",
              "      <td>Yes</td>\n",
              "      <td>NaN</td>\n",
              "      <td>NaN</td>\n",
              "    </tr>\n",
              "    <tr>\n",
              "      <th>1249</th>\n",
              "      <td>18/01/2021 17:46:02</td>\n",
              "      <td>33.0</td>\n",
              "      <td>Male</td>\n",
              "      <td>Berlin</td>\n",
              "      <td>Researcher/ Consumer Insights Analyst</td>\n",
              "      <td>10</td>\n",
              "      <td>1.5</td>\n",
              "      <td>Senior</td>\n",
              "      <td>consumer analysis</td>\n",
              "      <td>NaN</td>\n",
              "      <td>...</td>\n",
              "      <td>2500</td>\n",
              "      <td>unlimited</td>\n",
              "      <td>Full-time employee</td>\n",
              "      <td>Unlimited contract</td>\n",
              "      <td>English</td>\n",
              "      <td>1000+</td>\n",
              "      <td>Product</td>\n",
              "      <td>No</td>\n",
              "      <td>NaN</td>\n",
              "      <td>0</td>\n",
              "    </tr>\n",
              "    <tr>\n",
              "      <th>1250</th>\n",
              "      <td>18/01/2021 23:20:35</td>\n",
              "      <td>39.0</td>\n",
              "      <td>Male</td>\n",
              "      <td>Munich</td>\n",
              "      <td>IT Operations Manager</td>\n",
              "      <td>15</td>\n",
              "      <td>2</td>\n",
              "      <td>Lead</td>\n",
              "      <td>PHP</td>\n",
              "      <td>Python, C/C++, Javascript / Typescript, Java /...</td>\n",
              "      <td>...</td>\n",
              "      <td>NaN</td>\n",
              "      <td>28</td>\n",
              "      <td>Full-time employee</td>\n",
              "      <td>Unlimited contract</td>\n",
              "      <td>English</td>\n",
              "      <td>101-1000</td>\n",
              "      <td>eCommerce</td>\n",
              "      <td>No</td>\n",
              "      <td>NaN</td>\n",
              "      <td>NaN</td>\n",
              "    </tr>\n",
              "    <tr>\n",
              "      <th>1251</th>\n",
              "      <td>19/01/2021 10:17:58</td>\n",
              "      <td>26.0</td>\n",
              "      <td>Male</td>\n",
              "      <td>Saarbrücken</td>\n",
              "      <td>Frontend Developer</td>\n",
              "      <td>7</td>\n",
              "      <td>7</td>\n",
              "      <td>Middle</td>\n",
              "      <td>JavaScript</td>\n",
              "      <td>Javascript / Typescript, Docker, HTML, CSS; Ad...</td>\n",
              "      <td>...</td>\n",
              "      <td>36400</td>\n",
              "      <td>27</td>\n",
              "      <td>Full-time employee</td>\n",
              "      <td>Unlimited contract</td>\n",
              "      <td>German</td>\n",
              "      <td>101-1000</td>\n",
              "      <td>Product</td>\n",
              "      <td>No</td>\n",
              "      <td>NaN</td>\n",
              "      <td>0</td>\n",
              "    </tr>\n",
              "    <tr>\n",
              "      <th>1252</th>\n",
              "      <td>19/01/2021 12:01:11</td>\n",
              "      <td>26.0</td>\n",
              "      <td>Male</td>\n",
              "      <td>Berlin</td>\n",
              "      <td>DevOps</td>\n",
              "      <td>2</td>\n",
              "      <td>2</td>\n",
              "      <td>Middle</td>\n",
              "      <td>yaml</td>\n",
              "      <td>Python, AWS, Kubernetes, Docker, terraform, an...</td>\n",
              "      <td>...</td>\n",
              "      <td>0</td>\n",
              "      <td>30</td>\n",
              "      <td>Full-time employee</td>\n",
              "      <td>Unlimited contract</td>\n",
              "      <td>English</td>\n",
              "      <td>51-100</td>\n",
              "      <td>Startup</td>\n",
              "      <td>No</td>\n",
              "      <td>30.0</td>\n",
              "      <td>600</td>\n",
              "    </tr>\n",
              "  </tbody>\n",
              "</table>\n",
              "<p>1253 rows × 23 columns</p>\n",
              "</div>\n",
              "      <button class=\"colab-df-convert\" onclick=\"convertToInteractive('df-cde2d3f3-030f-4183-b7d7-ee9dcd0ccfc9')\"\n",
              "              title=\"Convert this dataframe to an interactive table.\"\n",
              "              style=\"display:none;\">\n",
              "        \n",
              "  <svg xmlns=\"http://www.w3.org/2000/svg\" height=\"24px\"viewBox=\"0 0 24 24\"\n",
              "       width=\"24px\">\n",
              "    <path d=\"M0 0h24v24H0V0z\" fill=\"none\"/>\n",
              "    <path d=\"M18.56 5.44l.94 2.06.94-2.06 2.06-.94-2.06-.94-.94-2.06-.94 2.06-2.06.94zm-11 1L8.5 8.5l.94-2.06 2.06-.94-2.06-.94L8.5 2.5l-.94 2.06-2.06.94zm10 10l.94 2.06.94-2.06 2.06-.94-2.06-.94-.94-2.06-.94 2.06-2.06.94z\"/><path d=\"M17.41 7.96l-1.37-1.37c-.4-.4-.92-.59-1.43-.59-.52 0-1.04.2-1.43.59L10.3 9.45l-7.72 7.72c-.78.78-.78 2.05 0 2.83L4 21.41c.39.39.9.59 1.41.59.51 0 1.02-.2 1.41-.59l7.78-7.78 2.81-2.81c.8-.78.8-2.07 0-2.86zM5.41 20L4 18.59l7.72-7.72 1.47 1.35L5.41 20z\"/>\n",
              "  </svg>\n",
              "      </button>\n",
              "      \n",
              "  <style>\n",
              "    .colab-df-container {\n",
              "      display:flex;\n",
              "      flex-wrap:wrap;\n",
              "      gap: 12px;\n",
              "    }\n",
              "\n",
              "    .colab-df-convert {\n",
              "      background-color: #E8F0FE;\n",
              "      border: none;\n",
              "      border-radius: 50%;\n",
              "      cursor: pointer;\n",
              "      display: none;\n",
              "      fill: #1967D2;\n",
              "      height: 32px;\n",
              "      padding: 0 0 0 0;\n",
              "      width: 32px;\n",
              "    }\n",
              "\n",
              "    .colab-df-convert:hover {\n",
              "      background-color: #E2EBFA;\n",
              "      box-shadow: 0px 1px 2px rgba(60, 64, 67, 0.3), 0px 1px 3px 1px rgba(60, 64, 67, 0.15);\n",
              "      fill: #174EA6;\n",
              "    }\n",
              "\n",
              "    [theme=dark] .colab-df-convert {\n",
              "      background-color: #3B4455;\n",
              "      fill: #D2E3FC;\n",
              "    }\n",
              "\n",
              "    [theme=dark] .colab-df-convert:hover {\n",
              "      background-color: #434B5C;\n",
              "      box-shadow: 0px 1px 3px 1px rgba(0, 0, 0, 0.15);\n",
              "      filter: drop-shadow(0px 1px 2px rgba(0, 0, 0, 0.3));\n",
              "      fill: #FFFFFF;\n",
              "    }\n",
              "  </style>\n",
              "\n",
              "      <script>\n",
              "        const buttonEl =\n",
              "          document.querySelector('#df-cde2d3f3-030f-4183-b7d7-ee9dcd0ccfc9 button.colab-df-convert');\n",
              "        buttonEl.style.display =\n",
              "          google.colab.kernel.accessAllowed ? 'block' : 'none';\n",
              "\n",
              "        async function convertToInteractive(key) {\n",
              "          const element = document.querySelector('#df-cde2d3f3-030f-4183-b7d7-ee9dcd0ccfc9');\n",
              "          const dataTable =\n",
              "            await google.colab.kernel.invokeFunction('convertToInteractive',\n",
              "                                                     [key], {});\n",
              "          if (!dataTable) return;\n",
              "\n",
              "          const docLinkHtml = 'Like what you see? Visit the ' +\n",
              "            '<a target=\"_blank\" href=https://colab.research.google.com/notebooks/data_table.ipynb>data table notebook</a>'\n",
              "            + ' to learn more about interactive tables.';\n",
              "          element.innerHTML = '';\n",
              "          dataTable['output_type'] = 'display_data';\n",
              "          await google.colab.output.renderOutput(dataTable, element);\n",
              "          const docLink = document.createElement('div');\n",
              "          docLink.innerHTML = docLinkHtml;\n",
              "          element.appendChild(docLink);\n",
              "        }\n",
              "      </script>\n",
              "    </div>\n",
              "  </div>\n",
              "  "
            ]
          },
          "metadata": {},
          "execution_count": 29
        }
      ]
    },
    {
      "cell_type": "code",
      "source": [
        "df.shape"
      ],
      "metadata": {
        "colab": {
          "base_uri": "https://localhost:8080/"
        },
        "id": "-YQwoS2j1VoC",
        "outputId": "be3491c1-d17e-44b8-f2b5-9cd17a89e067"
      },
      "execution_count": null,
      "outputs": [
        {
          "output_type": "execute_result",
          "data": {
            "text/plain": [
              "(1253, 23)"
            ]
          },
          "metadata": {},
          "execution_count": 23
        }
      ]
    },
    {
      "cell_type": "code",
      "source": [
        "df.info()"
      ],
      "metadata": {
        "id": "n--lK_fY1g1z"
      },
      "execution_count": null,
      "outputs": []
    },
    {
      "cell_type": "code",
      "source": [
        "df.describe()"
      ],
      "metadata": {
        "id": "fOiHE9ZW1uqY"
      },
      "execution_count": null,
      "outputs": []
    },
    {
      "cell_type": "markdown",
      "source": [
        "## **Cleaning the survey_2020 data**"
      ],
      "metadata": {
        "id": "1jwd-9y_3PeJ"
      }
    },
    {
      "cell_type": "code",
      "source": [
        "survey_2020.columns"
      ],
      "metadata": {
        "id": "jNI7-Dmk3UIS"
      },
      "execution_count": null,
      "outputs": []
    },
    {
      "cell_type": "code",
      "source": [
        "## Renaming Columns\n",
        "survey_2020.columns = [\"Year\", \"Age\", \"Gender\",\"City\",\"Position\",\"Years of experience\",\"Germany Experience\",\"Seniority level\",\"Tech program language\",\n",
        "                       \"Other Language\",\"Yearly salary\",\"Yearly bonus and stocks\", \"Salary one year ago\",\"Bonus and stocks last year\",\"Vacation days\",\n",
        "                       \"Employment_status\",\"Сontract_duration\",\"Language\",\"Company size\",\"Company type\",\"Job loss COVID\",\"Kurzarbeit\",\"Monetary Support\"]\n",
        "\n",
        "survey_2020.columns = survey_2020.columns.str.replace(' ', '_')"
      ],
      "metadata": {
        "id": "a7otp_3I4JbJ"
      },
      "execution_count": null,
      "outputs": []
    },
    {
      "cell_type": "code",
      "source": [
        "## Deleting unneeded columns \n",
        "del survey_2020['Germany_Experience']\n",
        "del survey_2020['Other_Language']\n",
        "del survey_2020['Employment_status']\n",
        "del survey_2020['Сontract_duration']"
      ],
      "metadata": {
        "id": "-gVV60VQ4XZ4"
      },
      "execution_count": null,
      "outputs": []
    },
    {
      "cell_type": "code",
      "source": [
        "survey_2020.shape"
      ],
      "metadata": {
        "id": "fZsTyXml4fcQ"
      },
      "execution_count": null,
      "outputs": []
    },
    {
      "cell_type": "code",
      "source": [
        "survey_2020.isna().sum()"
      ],
      "metadata": {
        "colab": {
          "base_uri": "https://localhost:8080/"
        },
        "id": "SBZBrbp54lVp",
        "outputId": "19863288-74ec-4fe8-dca1-5e9b190e3b6e"
      },
      "execution_count": null,
      "outputs": [
        {
          "output_type": "execute_result",
          "data": {
            "text/plain": [
              "Year                            0\n",
              "Age                            27\n",
              "Gender                         10\n",
              "City                            0\n",
              "Position                        6\n",
              "Years_of_experience            16\n",
              "Seniority_level                12\n",
              "Tech_program_language         127\n",
              "Yearly_salary                   0\n",
              "Yearly_bonus_and_stocks       424\n",
              "Salary_one_year_ago           368\n",
              "Bonus_and_stocks_last_year    639\n",
              "Vacation_days                  68\n",
              "Language                       16\n",
              "Company_size                   18\n",
              "Company_type                   25\n",
              "Job_loss_COVID                 20\n",
              "Kurzarbeit                    880\n",
              "Monetary_Support              791\n",
              "dtype: int64"
            ]
          },
          "metadata": {},
          "execution_count": 34
        }
      ]
    },
    {
      "cell_type": "code",
      "source": [
        "## Droping missing and duplicate values \n",
        "survey_2020=survey_2020.dropna(subset=['Age','Gender','Position','Years_of_experience','Seniority_level','Salary_one_year_ago','Language']) \n",
        "survey_2020=survey_2020.drop_duplicates()"
      ],
      "metadata": {
        "id": "R_Sn1NpF4ws5"
      },
      "execution_count": null,
      "outputs": []
    },
    {
      "cell_type": "code",
      "source": [
        "survey_2020.isna().sum()"
      ],
      "metadata": {
        "id": "haMVoKnt42Zh"
      },
      "execution_count": null,
      "outputs": []
    },
    {
      "cell_type": "code",
      "source": [
        "## Changing datetime to date \n",
        "survey_2020['Year'] = pd.to_datetime(survey_2020['Year']).dt.year"
      ],
      "metadata": {
        "id": "B8uZpQN95fZB"
      },
      "execution_count": null,
      "outputs": []
    },
    {
      "cell_type": "code",
      "source": [
        "## Filtering only data from 2020\n",
        "survey_2020_filtered=survey_2020[survey_2020['Year']==2020]"
      ],
      "metadata": {
        "id": "uWD4M7vU5gYp"
      },
      "execution_count": null,
      "outputs": []
    },
    {
      "cell_type": "code",
      "source": [
        "## Cleaning city column\n",
        "survey_2020_filtered=survey_2020_filtered.replace({'City': {'ü': 'u', 'ö': 'o','ń':'n'}}, regex=True)\n",
        "survey_2020_filtered['City'] = survey_2020_filtered['City'].str.title().str.strip()\n",
        "\n",
        "survey_2020_filtered=survey_2020_filtered.replace({'City': {'Nurnberg': 'Nuremberg','Kiev': 'Kyiv','Koln':'Cologne','Den Haag':'The Haag',\n",
        "                                                            'Cracovia':'Krakow','Bolingen':'Bollingen','Braunschweig':'Brunswick',\n",
        "                                                            'Sevilla':'Seville','Saint-Petersburg':'Saint Petersburg','Dusseldurf':'Dusseldorf'}})"
      ],
      "metadata": {
        "id": "OL1rF6QM5nfq"
      },
      "execution_count": null,
      "outputs": []
    },
    {
      "cell_type": "code",
      "source": [
        "## Cleaning poitison column \n",
        "survey_2020_filtered['Position'] = survey_2020_filtered['Position'].str.title().str.strip()\n",
        "\n",
        "counts_2020=survey_2020_filtered.Position.value_counts()\n",
        "cutoff1=3\n",
        "cutoff1_keep= list(counts_2020[counts_2020.values>=cutoff1].index)\n",
        "survey_2020_filtered['Position'] = survey_2020_filtered['Position'].where(survey_2020_filtered['Position'].isin(cutoff1_keep), 'Other')"
      ],
      "metadata": {
        "id": "Da1WjWQo5qy0"
      },
      "execution_count": null,
      "outputs": []
    },
    {
      "cell_type": "code",
      "source": [
        "survey_2020_filtered.dtypes"
      ],
      "metadata": {
        "colab": {
          "base_uri": "https://localhost:8080/"
        },
        "id": "fIeTBdZt5uW6",
        "outputId": "259e55ea-ed90-4d18-e5d7-b255d8afcdb1"
      },
      "execution_count": null,
      "outputs": [
        {
          "output_type": "execute_result",
          "data": {
            "text/plain": [
              "Year                            int64\n",
              "Age                           float64\n",
              "Gender                         object\n",
              "City                           object\n",
              "Position                       object\n",
              "Years_of_experience            object\n",
              "Seniority_level                object\n",
              "Tech_program_language          object\n",
              "Yearly_salary                 float64\n",
              "Yearly_bonus_and_stocks        object\n",
              "Salary_one_year_ago           float64\n",
              "Bonus_and_stocks_last_year     object\n",
              "Vacation_days                  object\n",
              "Language                       object\n",
              "Company_size                   object\n",
              "Company_type                   object\n",
              "Job_loss_COVID                 object\n",
              "Kurzarbeit                    float64\n",
              "Monetary_Support               object\n",
              "dtype: object"
            ]
          },
          "metadata": {},
          "execution_count": 45
        }
      ]
    },
    {
      "cell_type": "code",
      "source": [
        "## Cleaning Years of Experience \n",
        "survey_2020_filtered['Years_of_experience']=survey_2020_filtered['Years_of_experience'].astype(str)\n",
        "\n",
        "survey_2020_filtered['Years_of_experience']=survey_2020_filtered['Years_of_experience'].str.replace(r',', '.',regex=True)\n",
        "survey_2020_filtered['Years_of_experience']=survey_2020_filtered['Years_of_experience'].str.replace(r'6 \\(not as a data scientist. but as a lab scientist\\)',\n",
        "                                                                                                    '6',regex=True)\n",
        "survey_2020_filtered['Years_of_experience']=survey_2020_filtered['Years_of_experience'].str.replace(r'15\\. thereof 8 as CTO','15',regex=True)\n",
        "survey_2020_filtered['Years_of_experience']=survey_2020_filtered['Years_of_experience'].str.replace(r'1 \\(as QA Engineer\\) / 11 in total','11',regex=True)\n",
        "survey_2020_filtered['Years_of_experience']=survey_2020_filtered['Years_of_experience'].str.replace(r'less than year','1',regex=True)         \n",
        "\n",
        "survey_2020_filtered['Years_of_experience'] = pd.to_numeric(survey_2020_filtered['Years_of_experience'])"
      ],
      "metadata": {
        "id": "37WCRfQj5vp6"
      },
      "execution_count": null,
      "outputs": []
    },
    {
      "cell_type": "code",
      "source": [
        "## Cleaning Seniority Level\n",
        "survey_2020_filtered['Seniority_level'] = survey_2020_filtered['Seniority_level'].str.title().str.strip()\n",
        "survey_2020_filtered=survey_2020_filtered.replace({'Seniority_level': {'Lead': 'Senior','Head': 'Senior','Principal':'Senior','Student':'Junior',\n",
        "                                                                       'Intern':'Junior','Working Student':'Junior','C-Level':'Senior',\n",
        "                                                                       'No Idea, There Are No Ranges In The Firm':'Na','Director':'Senior',\n",
        "                                                                       'C-Level Executive Manager':'Senior','Key': 'Na','No Level':'Na','Cto':'Senior',\n",
        "                                                                       'Work Center Manager':'Senior','Manager':'Senior','Vp':'Senior','Entry Level':'Junior'}})"
      ],
      "metadata": {
        "id": "QhIQVBwE5_qz"
      },
      "execution_count": null,
      "outputs": []
    },
    {
      "cell_type": "code",
      "source": [
        "## Cleaning Tech language\n",
        "survey_2020_filtered['Tech_program_language'] = survey_2020_filtered['Tech_program_language'].str.title().str.strip()"
      ],
      "metadata": {
        "id": "mHL9ytwj6NMo"
      },
      "execution_count": null,
      "outputs": []
    },
    {
      "cell_type": "code",
      "source": [
        "## Cleaning Vacation Days \n",
        "survey_2020_filtered['Vacation_days'] = survey_2020_filtered['Vacation_days'].str.title().str.strip()\n",
        "survey_2020_filtered=survey_2020_filtered.replace({'Vacation_days': {'23+': '23','24 Labour Days': '24','~25':'25',\n",
        "                                                                     '30 In Contract (But Theoretically Unlimited)':'365',\n",
        "                                                                     'Unlimited':'365','(No Idea)':'Na'}})"
      ],
      "metadata": {
        "id": "1C2sEc3m6Th5"
      },
      "execution_count": null,
      "outputs": []
    },
    {
      "cell_type": "code",
      "source": [
        "## Cleaning Language column\n",
        "survey_2020_filtered['Language'] = survey_2020_filtered['Language'].str.replace('Deutsch', 'German')\n",
        "survey_2020_filtered=survey_2020_filtered.replace({'Language': {'English and German': 'Multiple', 'Русский': 'Russian','50/50':'Multiple',\n",
        "                                                                'Deuglisch':'German','both':'Multiple','Russian, English':'Multiple'}})"
      ],
      "metadata": {
        "id": "BgtrYzhg6WnB"
      },
      "execution_count": null,
      "outputs": []
    },
    {
      "cell_type": "code",
      "source": [
        "## Cleaning COVID column \n",
        "survey_2020_filtered=survey_2020_filtered.replace({'Job_loss_COVID': {'i didn\\'t but will be looking for new one because of covid': 'No',\n",
        "                                                                      'kurzarbeitzeit for 1.5 months': 'No',\n",
        "                                                                      'Lost the job but for different reason':'No',\n",
        "                                                                      'yes but found a new one with better pay / perks':'Yes',\n",
        "                                                                      'No, but there was a salary cut at 10% for 3 months and then at 5% for further 3 months':'No',\n",
        "                                                                      'Leads and project inquiries have slowed down':'No','Have been a freelancer at the beginning of year':'Yes',\n",
        "                                                                       'Laid off for a bit':'Laid Off'}})"
      ],
      "metadata": {
        "id": "L582gTYR6blS"
      },
      "execution_count": null,
      "outputs": []
    },
    {
      "cell_type": "code",
      "source": [
        "## Cleaning monetary support \n",
        "survey_2020_filtered['Monetary_Support'] = survey_2020_filtered['Monetary_Support'].str.title().str.strip()\n",
        "\n",
        "Monetary_2020=survey_2020_filtered.Monetary_Support.value_counts()\n",
        "cutoff2=3\n",
        "cutoff2_keep= list(Monetary_2020[Monetary_2020.values>=cutoff2].index)\n",
        "survey_2020_filtered['Monetary_Support'] = survey_2020_filtered['Monetary_Support'].where(survey_2020_filtered['Monetary_Support'].isin(cutoff2_keep), 'Other')"
      ],
      "metadata": {
        "id": "zXrVvSQY6g7K"
      },
      "execution_count": null,
      "outputs": []
    },
    {
      "cell_type": "code",
      "source": [
        "survey_2020_filtered.shape"
      ],
      "metadata": {
        "colab": {
          "base_uri": "https://localhost:8080/"
        },
        "id": "kpZW5mcp6oEq",
        "outputId": "530448c6-4e82-41e0-cdd3-bd93123c05f3"
      },
      "execution_count": null,
      "outputs": [
        {
          "output_type": "execute_result",
          "data": {
            "text/plain": [
              "(833, 19)"
            ]
          },
          "metadata": {},
          "execution_count": 53
        }
      ]
    },
    {
      "cell_type": "code",
      "source": [
        "survey_2020_filtered.describe().round()"
      ],
      "metadata": {
        "colab": {
          "base_uri": "https://localhost:8080/",
          "height": 300
        },
        "id": "R5fQCXWz6rdZ",
        "outputId": "b8b5f4eb-5b17-48de-c8b4-9847936435ec"
      },
      "execution_count": null,
      "outputs": [
        {
          "output_type": "execute_result",
          "data": {
            "text/plain": [
              "         Year    Age  Years_of_experience  Yearly_salary  Salary_one_year_ago  \\\n",
              "count   833.0  833.0                833.0          833.0                833.0   \n",
              "mean   2020.0   33.0                  9.0       673647.0             667160.0   \n",
              "std       0.0    5.0                  5.0     17321462.0           17321681.0   \n",
              "min    2020.0   22.0                  0.0        12000.0              11000.0   \n",
              "25%    2020.0   29.0                  5.0        60000.0              55000.0   \n",
              "50%    2020.0   32.0                  9.0        70000.0              65000.0   \n",
              "75%    2020.0   36.0                 12.0        81000.0              75000.0   \n",
              "max    2020.0   66.0                 40.0    500000000.0          500000000.0   \n",
              "\n",
              "       Kurzarbeit  \n",
              "count       275.0  \n",
              "mean         13.0  \n",
              "std          16.0  \n",
              "min           0.0  \n",
              "25%           0.0  \n",
              "50%           0.0  \n",
              "75%          30.0  \n",
              "max          40.0  "
            ],
            "text/html": [
              "\n",
              "  <div id=\"df-03dfa2f6-2f3c-44fe-ab09-e0cfa73c7dd3\">\n",
              "    <div class=\"colab-df-container\">\n",
              "      <div>\n",
              "<style scoped>\n",
              "    .dataframe tbody tr th:only-of-type {\n",
              "        vertical-align: middle;\n",
              "    }\n",
              "\n",
              "    .dataframe tbody tr th {\n",
              "        vertical-align: top;\n",
              "    }\n",
              "\n",
              "    .dataframe thead th {\n",
              "        text-align: right;\n",
              "    }\n",
              "</style>\n",
              "<table border=\"1\" class=\"dataframe\">\n",
              "  <thead>\n",
              "    <tr style=\"text-align: right;\">\n",
              "      <th></th>\n",
              "      <th>Year</th>\n",
              "      <th>Age</th>\n",
              "      <th>Years_of_experience</th>\n",
              "      <th>Yearly_salary</th>\n",
              "      <th>Salary_one_year_ago</th>\n",
              "      <th>Kurzarbeit</th>\n",
              "    </tr>\n",
              "  </thead>\n",
              "  <tbody>\n",
              "    <tr>\n",
              "      <th>count</th>\n",
              "      <td>833.0</td>\n",
              "      <td>833.0</td>\n",
              "      <td>833.0</td>\n",
              "      <td>833.0</td>\n",
              "      <td>833.0</td>\n",
              "      <td>275.0</td>\n",
              "    </tr>\n",
              "    <tr>\n",
              "      <th>mean</th>\n",
              "      <td>2020.0</td>\n",
              "      <td>33.0</td>\n",
              "      <td>9.0</td>\n",
              "      <td>673647.0</td>\n",
              "      <td>667160.0</td>\n",
              "      <td>13.0</td>\n",
              "    </tr>\n",
              "    <tr>\n",
              "      <th>std</th>\n",
              "      <td>0.0</td>\n",
              "      <td>5.0</td>\n",
              "      <td>5.0</td>\n",
              "      <td>17321462.0</td>\n",
              "      <td>17321681.0</td>\n",
              "      <td>16.0</td>\n",
              "    </tr>\n",
              "    <tr>\n",
              "      <th>min</th>\n",
              "      <td>2020.0</td>\n",
              "      <td>22.0</td>\n",
              "      <td>0.0</td>\n",
              "      <td>12000.0</td>\n",
              "      <td>11000.0</td>\n",
              "      <td>0.0</td>\n",
              "    </tr>\n",
              "    <tr>\n",
              "      <th>25%</th>\n",
              "      <td>2020.0</td>\n",
              "      <td>29.0</td>\n",
              "      <td>5.0</td>\n",
              "      <td>60000.0</td>\n",
              "      <td>55000.0</td>\n",
              "      <td>0.0</td>\n",
              "    </tr>\n",
              "    <tr>\n",
              "      <th>50%</th>\n",
              "      <td>2020.0</td>\n",
              "      <td>32.0</td>\n",
              "      <td>9.0</td>\n",
              "      <td>70000.0</td>\n",
              "      <td>65000.0</td>\n",
              "      <td>0.0</td>\n",
              "    </tr>\n",
              "    <tr>\n",
              "      <th>75%</th>\n",
              "      <td>2020.0</td>\n",
              "      <td>36.0</td>\n",
              "      <td>12.0</td>\n",
              "      <td>81000.0</td>\n",
              "      <td>75000.0</td>\n",
              "      <td>30.0</td>\n",
              "    </tr>\n",
              "    <tr>\n",
              "      <th>max</th>\n",
              "      <td>2020.0</td>\n",
              "      <td>66.0</td>\n",
              "      <td>40.0</td>\n",
              "      <td>500000000.0</td>\n",
              "      <td>500000000.0</td>\n",
              "      <td>40.0</td>\n",
              "    </tr>\n",
              "  </tbody>\n",
              "</table>\n",
              "</div>\n",
              "      <button class=\"colab-df-convert\" onclick=\"convertToInteractive('df-03dfa2f6-2f3c-44fe-ab09-e0cfa73c7dd3')\"\n",
              "              title=\"Convert this dataframe to an interactive table.\"\n",
              "              style=\"display:none;\">\n",
              "        \n",
              "  <svg xmlns=\"http://www.w3.org/2000/svg\" height=\"24px\"viewBox=\"0 0 24 24\"\n",
              "       width=\"24px\">\n",
              "    <path d=\"M0 0h24v24H0V0z\" fill=\"none\"/>\n",
              "    <path d=\"M18.56 5.44l.94 2.06.94-2.06 2.06-.94-2.06-.94-.94-2.06-.94 2.06-2.06.94zm-11 1L8.5 8.5l.94-2.06 2.06-.94-2.06-.94L8.5 2.5l-.94 2.06-2.06.94zm10 10l.94 2.06.94-2.06 2.06-.94-2.06-.94-.94-2.06-.94 2.06-2.06.94z\"/><path d=\"M17.41 7.96l-1.37-1.37c-.4-.4-.92-.59-1.43-.59-.52 0-1.04.2-1.43.59L10.3 9.45l-7.72 7.72c-.78.78-.78 2.05 0 2.83L4 21.41c.39.39.9.59 1.41.59.51 0 1.02-.2 1.41-.59l7.78-7.78 2.81-2.81c.8-.78.8-2.07 0-2.86zM5.41 20L4 18.59l7.72-7.72 1.47 1.35L5.41 20z\"/>\n",
              "  </svg>\n",
              "      </button>\n",
              "      \n",
              "  <style>\n",
              "    .colab-df-container {\n",
              "      display:flex;\n",
              "      flex-wrap:wrap;\n",
              "      gap: 12px;\n",
              "    }\n",
              "\n",
              "    .colab-df-convert {\n",
              "      background-color: #E8F0FE;\n",
              "      border: none;\n",
              "      border-radius: 50%;\n",
              "      cursor: pointer;\n",
              "      display: none;\n",
              "      fill: #1967D2;\n",
              "      height: 32px;\n",
              "      padding: 0 0 0 0;\n",
              "      width: 32px;\n",
              "    }\n",
              "\n",
              "    .colab-df-convert:hover {\n",
              "      background-color: #E2EBFA;\n",
              "      box-shadow: 0px 1px 2px rgba(60, 64, 67, 0.3), 0px 1px 3px 1px rgba(60, 64, 67, 0.15);\n",
              "      fill: #174EA6;\n",
              "    }\n",
              "\n",
              "    [theme=dark] .colab-df-convert {\n",
              "      background-color: #3B4455;\n",
              "      fill: #D2E3FC;\n",
              "    }\n",
              "\n",
              "    [theme=dark] .colab-df-convert:hover {\n",
              "      background-color: #434B5C;\n",
              "      box-shadow: 0px 1px 3px 1px rgba(0, 0, 0, 0.15);\n",
              "      filter: drop-shadow(0px 1px 2px rgba(0, 0, 0, 0.3));\n",
              "      fill: #FFFFFF;\n",
              "    }\n",
              "  </style>\n",
              "\n",
              "      <script>\n",
              "        const buttonEl =\n",
              "          document.querySelector('#df-03dfa2f6-2f3c-44fe-ab09-e0cfa73c7dd3 button.colab-df-convert');\n",
              "        buttonEl.style.display =\n",
              "          google.colab.kernel.accessAllowed ? 'block' : 'none';\n",
              "\n",
              "        async function convertToInteractive(key) {\n",
              "          const element = document.querySelector('#df-03dfa2f6-2f3c-44fe-ab09-e0cfa73c7dd3');\n",
              "          const dataTable =\n",
              "            await google.colab.kernel.invokeFunction('convertToInteractive',\n",
              "                                                     [key], {});\n",
              "          if (!dataTable) return;\n",
              "\n",
              "          const docLinkHtml = 'Like what you see? Visit the ' +\n",
              "            '<a target=\"_blank\" href=https://colab.research.google.com/notebooks/data_table.ipynb>data table notebook</a>'\n",
              "            + ' to learn more about interactive tables.';\n",
              "          element.innerHTML = '';\n",
              "          dataTable['output_type'] = 'display_data';\n",
              "          await google.colab.output.renderOutput(dataTable, element);\n",
              "          const docLink = document.createElement('div');\n",
              "          docLink.innerHTML = docLinkHtml;\n",
              "          element.appendChild(docLink);\n",
              "        }\n",
              "      </script>\n",
              "    </div>\n",
              "  </div>\n",
              "  "
            ]
          },
          "metadata": {},
          "execution_count": 54
        }
      ]
    },
    {
      "cell_type": "markdown",
      "source": [
        "## **2020 Survey Analysis**"
      ],
      "metadata": {
        "id": "1l8cyl4-9FU0"
      }
    },
    {
      "cell_type": "markdown",
      "source": [
        "### **Distribution Of Ages**"
      ],
      "metadata": {
        "id": "uicT3Dzl9UuB"
      }
    },
    {
      "cell_type": "code",
      "source": [
        "sns.set(font_scale=1.3)\n",
        "plot=sns.histplot(survey_2020_filtered.Age,bins=9,kde=True)\n",
        "plt.title('Age Distribution')\n",
        "plt.show()\n",
        "\n",
        "print('Age Descriptive Statistics')\n",
        "survey_2020_filtered['Age'].describe().round()\n"
      ],
      "metadata": {
        "colab": {
          "base_uri": "https://localhost:8080/",
          "height": 483
        },
        "id": "2_Vmwia09d05",
        "outputId": "88527a86-dffd-445f-9689-66cd509d3578"
      },
      "execution_count": null,
      "outputs": [
        {
          "output_type": "display_data",
          "data": {
            "text/plain": [
              "<Figure size 432x288 with 1 Axes>"
            ],
            "image/png": "[encoded data removed]"
          },
          "metadata": {}
        },
        {
          "output_type": "stream",
          "name": "stdout",
          "text": [
            "Age Descriptive Statistics\n"
          ]
        },
        {
          "output_type": "execute_result",
          "data": {
            "text/plain": [
              "count    833.0\n",
              "mean      33.0\n",
              "std        5.0\n",
              "min       22.0\n",
              "25%       29.0\n",
              "50%       32.0\n",
              "75%       36.0\n",
              "max       66.0\n",
              "Name: Age, dtype: float64"
            ]
          },
          "metadata": {},
          "execution_count": 60
        }
      ]
    },
    {
      "cell_type": "markdown",
      "source": [
        "## **Position Breakdown**"
      ],
      "metadata": {
        "id": "HNSlraSD69V-"
      }
    },
    {
      "cell_type": "code",
      "source": [
        "position=survey_2020_filtered.Position.value_counts().reset_index().iloc[:11]\n",
        "position=position.rename(columns={\"index\": \"Position\", \"Position\": \"Count\"})\n",
        "position.drop([2], axis=0, inplace=True)\n",
        "\n",
        "top10=[]\n",
        "for x in position['Position']:\n",
        "     if x not in top10:\n",
        "        top10.append(x)\n",
        "        \n",
        "rslt_df = survey_2020_filtered[survey_2020_filtered['Position'].isin(top10)] "
      ],
      "metadata": {
        "id": "QmQD5IMY7B_i"
      },
      "execution_count": null,
      "outputs": []
    },
    {
      "cell_type": "code",
      "source": [
        "g = sns.FacetGrid(rslt_df, col='Position', hue='Gender',palette=[\"#1C9FEF\", \"#FA50A3\", \"#0C0B0B\"],col_wrap=5,)\n",
        "g=g.map(sns.scatterplot,'Years_of_experience',\"Yearly_salary\")\n",
        "g.set(xticks=[0,5, 10,15,20,25,30,35,40], yticks=[50000, 100000, 150000,200000,250000],xlabel='Yearly Salary', ylabel='Years of Experience')\n",
        "g.fig.set_figwidth(20)\n",
        "g.fig.set_figheight(8)\n",
        "plt.suptitle('Top 10 IT Positions',y=1.02)\n",
        "plt.legend (loc='upper right',title='Gender',bbox_to_anchor=(1,2.2))\n",
        "\n",
        "plt.show()"
      ],
      "metadata": {
        "colab": {
          "base_uri": "https://localhost:8080/",
          "height": 473
        },
        "id": "xaP23jIs8svz",
        "outputId": "aa33edfe-2153-4675-d122-63be6cf06ee1"
      },
      "execution_count": null,
      "outputs": [
        {
          "output_type": "display_data",
          "data": {
            "text/plain": [
              "<Figure size 1440x576 with 10 Axes>"
            ],
            "image/png": "[encoded data removed]"
          },
          "metadata": {}
        }
      ]
    },
    {
      "cell_type": "markdown",
      "source": [
        "### **Languages used by participants**"
      ],
      "metadata": {
        "id": "0VO7HS9M-xBp"
      }
    },
    {
      "cell_type": "code",
      "source": [
        "language=survey_2020_filtered.Language.value_counts()\n",
        "print('Percentage of Participants Spoken Language')\n",
        "x=(language/language.sum())*100\n",
        "round(x,2)\n"
      ],
      "metadata": {
        "colab": {
          "base_uri": "https://localhost:8080/"
        },
        "id": "c-zlA37E-3ah",
        "outputId": "4b1237dc-6932-4208-9c33-9faf7225ec7f"
      },
      "execution_count": null,
      "outputs": [
        {
          "output_type": "stream",
          "name": "stdout",
          "text": [
            "Percentage of Participants Spoken Language\n"
          ]
        },
        {
          "output_type": "execute_result",
          "data": {
            "text/plain": [
              "English     81.03\n",
              "German      16.57\n",
              "Russian      1.08\n",
              "Multiple     0.36\n",
              "Italian      0.36\n",
              "Czech        0.24\n",
              "Spanish      0.24\n",
              "Polish       0.12\n",
              "Name: Language, dtype: float64"
            ]
          },
          "metadata": {},
          "execution_count": 64
        }
      ]
    },
    {
      "cell_type": "markdown",
      "source": [
        "### **Most Used Program Languages**"
      ],
      "metadata": {
        "id": "bpQZLs2q_Gpi"
      }
    },
    {
      "cell_type": "code",
      "source": [
        "program=rslt_df[\"Tech_program_language\"].value_counts().iloc[:15].reset_index()\n",
        "program=program.rename(columns={\"index\": \"Program\", \"Tech_program_language\": \"Count\"})\n",
        "sns.barplot(data=program, y=\"Program\", x=\"Count\")\n",
        "plt.title('Top 15 Program Languages')\n",
        "plt.show()\n"
      ],
      "metadata": {
        "colab": {
          "base_uri": "https://localhost:8080/",
          "height": 309
        },
        "id": "JPtSdfuE_Ovp",
        "outputId": "8839c42b-ecad-484a-aab5-9824b8f1f477"
      },
      "execution_count": null,
      "outputs": [
        {
          "output_type": "display_data",
          "data": {
            "text/plain": [
              "<Figure size 432x288 with 1 Axes>"
            ],
            "image/png": "[encoded data removed]"
          },
          "metadata": {}
        }
      ]
    },
    {
      "cell_type": "markdown",
      "source": [
        "## **Summary**"
      ],
      "metadata": {
        "id": "5HeZMspf_hQw"
      }
    },
    {
      "cell_type": "markdown",
      "source": [
        "\n",
        "*   There were 830 participants reviewed in this analysis. The age distribution is left skewed with the majority of participants between 29 and 36. Most participants are from Munich and Berlin due to the survey placing a special focus on German IT specialists. Even though most employees are located in Germany the lanuage most often used at work is Enligsh (81%), and then German (17%), with the last 2% other or multiple languages.\n",
        "\n",
        "*   There is positive, weak correlation between salary and years of experience. Only one female participant made over $100,000.\n",
        "\n",
        "\n",
        "*   The top 10 most popular positions in this data set were Software Engineer, Backend Developer, Devops, Frontend Developer, Data Engineer, Product Manager, Moblie Developer, Data Scientist, QA Engineer, and MI Engineer. The majority of these positions had a salary range from $50,000-\\$100,000.\n",
        "\n",
        "*   Python annd Java were by far the most popular programming languages. Which are often used for software engineering a field 268 of the participants worked in.\n",
        "\n",
        "\n",
        "\n",
        "\n",
        "\n"
      ],
      "metadata": {
        "id": "xeaBQbHK_ksB"
      }
    }
  ]
}